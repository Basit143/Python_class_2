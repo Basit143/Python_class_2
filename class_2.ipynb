{
 "cells": [
  {
   "cell_type": "markdown",
   "metadata": {},
   "source": [
    "# String"
   ]
  },
  {
   "cell_type": "code",
   "execution_count": 1,
   "metadata": {},
   "outputs": [
    {
     "name": "stdout",
     "output_type": "stream",
     "text": [
      "Abdul Basit\n",
      "<class 'str'>\n",
      "1802012207664\n"
     ]
    }
   ],
   "source": [
    "name : str = \"Abdul Basit\"\n",
    "print(name)\n",
    "print(type(name))\n",
    "print(id(name))\n"
   ]
  },
  {
   "cell_type": "code",
   "execution_count": 10,
   "metadata": {},
   "outputs": [
    {
     "name": "stdout",
     "output_type": "stream",
     "text": [
      "ABDUL BASIT\n",
      "abdul basit\n"
     ]
    }
   ],
   "source": [
    "name:str = \"Abdul Basit\"\n",
    "print(name.upper())\n",
    "print(name.lower())\n"
   ]
  },
  {
   "cell_type": "markdown",
   "metadata": {},
   "source": [
    "# F String"
   ]
  },
  {
   "cell_type": "code",
   "execution_count": 8,
   "metadata": {},
   "outputs": [
    {
     "name": "stdout",
     "output_type": "stream",
     "text": [
      "Abdul Basit\n"
     ]
    }
   ],
   "source": [
    "first_name = \"Abdul\"\n",
    "last_name  = \"Basit\"\n",
    "full_name  = f\"{first_name} {last_name}\"\n",
    "print(full_name)\n"
   ]
  },
  {
   "cell_type": "code",
   "execution_count": 15,
   "metadata": {},
   "outputs": [
    {
     "name": "stdout",
     "output_type": "stream",
     "text": [
      "Hello, Abdul Basit!\n"
     ]
    }
   ],
   "source": [
    "first_name = \"Abdul\"\n",
    "last_name  = \"Basit\"\n",
    "full_name  = f\"{first_name} {last_name}\"\n",
    "print(f\"Hello, {full_name.title()}!\")"
   ]
  },
  {
   "cell_type": "code",
   "execution_count": 16,
   "metadata": {},
   "outputs": [
    {
     "name": "stdout",
     "output_type": "stream",
     "text": [
      "Hello, Abdul Basit!\n"
     ]
    }
   ],
   "source": [
    "first_name = \"Abdul\"\n",
    "last_name  = \"Basit\"\n",
    "full_name  = f\"{first_name} {last_name}\"\n",
    "message = f\"Hello, {full_name.title()}!\"\n",
    "print(message)"
   ]
  },
  {
   "cell_type": "code",
   "execution_count": 1,
   "metadata": {},
   "outputs": [
    {
     "name": "stdout",
     "output_type": "stream",
     "text": [
      "\n",
      "PIAIC Student Card\n",
      "student_Name : Abdul Basit\n",
      "father_Name : Abdul Dayyan\n",
      "roll_Number : 143\n",
      "Age : 19\n",
      "Education : Metric\n",
      "\n"
     ]
    }
   ],
   "source": [
    "name : str = \"Abdul Basit\"\n",
    "fname : str = \"Abdul Dayyan\"\n",
    "roll_number : int = 143\n",
    "education : str = \"Metric\"\n",
    "age: int = 19 \n",
    "\n",
    "card : str = f\"\"\"\n",
    "PIAIC Student Card\n",
    "student_Name : {name}\n",
    "father_Name : {fname}\n",
    "roll_Number : {roll_number}\n",
    "Age : {age}\n",
    "Education : {education}\n",
    "\"\"\"\n",
    "print(card)\n"
   ]
  },
  {
   "cell_type": "markdown",
   "metadata": {},
   "source": [
    "# Explore String methods and attributes\n",
    "\n",
    "pre-define global function we have ues \n",
    "\n",
    "* Print\n",
    "* type\n",
    "* id \n",
    "* len"
   ]
  },
  {
   "cell_type": "code",
   "execution_count": 2,
   "metadata": {},
   "outputs": [
    {
     "name": "stdout",
     "output_type": "stream",
     "text": [
      "['capitalize', 'casefold', 'center', 'count', 'encode', 'endswith', 'expandtabs', 'find', 'format', 'index', 'isalnum', 'isalpha', 'isascii', 'isdecimal', 'isdigit', 'isidentifier', 'islower', 'isnumeric', 'isprintable', 'isspace', 'istitle', 'isupper', 'join', 'ljust', 'lower', 'lstrip', 'maketrans', 'partition', 'removeprefix', 'removesuffix', 'replace', 'rfind', 'rindex', 'rjust', 'rpartition', 'rsplit', 'rstrip', 'split', 'splitlines', 'startswith', 'strip', 'swapcase', 'title', 'translate', 'upper', 'zfill']\n",
      "46\n"
     ]
    }
   ],
   "source": [
    "a : list[str] = [i for i in dir(str) if \"_\" not in i]\n",
    "print(a)\n",
    "print(len(a))\n"
   ]
  },
  {
   "cell_type": "markdown",
   "metadata": {},
   "source": [
    "# Capitalize"
   ]
  },
  {
   "cell_type": "code",
   "execution_count": 4,
   "metadata": {},
   "outputs": [
    {
     "name": "stdout",
     "output_type": "stream",
     "text": [
      "Abdul basit\n"
     ]
    }
   ],
   "source": [
    "name : str = \"ABdul BASit\"\n",
    "print(name.capitalize())"
   ]
  },
  {
   "cell_type": "markdown",
   "metadata": {},
   "source": [
    "# Format"
   ]
  },
  {
   "cell_type": "code",
   "execution_count": 1,
   "metadata": {},
   "outputs": [
    {
     "data": {
      "text/plain": [
       "'pakistan value a = 4 and value b = 7'"
      ]
     },
     "execution_count": 1,
     "metadata": {},
     "output_type": "execute_result"
    }
   ],
   "source": [
    "a = 4 \n",
    "b = 7\n",
    "#  {} place holder\n",
    "#                    0               1          0,1\n",
    "\"pakistan value a = {} and value b = {}\".format(a,b)"
   ]
  },
  {
   "cell_type": "markdown",
   "metadata": {},
   "source": [
    "# Casefold"
   ]
  },
  {
   "cell_type": "code",
   "execution_count": 1,
   "metadata": {},
   "outputs": [
    {
     "name": "stdout",
     "output_type": "stream",
     "text": [
      "ABdul BASit\n",
      "abdul basit\n"
     ]
    }
   ],
   "source": [
    "name : str = \"ABdul BASit\"\n",
    "print(name)\n",
    "print(name.casefold())"
   ]
  },
  {
   "cell_type": "markdown",
   "metadata": {},
   "source": [
    "# Stripping Whitespace"
   ]
  },
  {
   "cell_type": "code",
   "execution_count": 7,
   "metadata": {},
   "outputs": [
    {
     "data": {
      "text/plain": [
       "'        ABdul BASit      '"
      ]
     },
     "metadata": {},
     "output_type": "display_data"
    },
    {
     "data": {
      "text/plain": [
       "'        ABdul BASit'"
      ]
     },
     "metadata": {},
     "output_type": "display_data"
    }
   ],
   "source": [
    "name : str = \"        ABdul BASit      \"\n",
    "display(name)\n",
    "display(name.rstrip())"
   ]
  },
  {
   "cell_type": "code",
   "execution_count": 8,
   "metadata": {},
   "outputs": [
    {
     "data": {
      "text/plain": [
       "'        ABdul BASit      '"
      ]
     },
     "metadata": {},
     "output_type": "display_data"
    },
    {
     "data": {
      "text/plain": [
       "'ABdul BASit      '"
      ]
     },
     "metadata": {},
     "output_type": "display_data"
    }
   ],
   "source": [
    "name : str = \"        ABdul BASit      \"\n",
    "display(name)\n",
    "display(name.lstrip())"
   ]
  },
  {
   "cell_type": "code",
   "execution_count": 9,
   "metadata": {},
   "outputs": [
    {
     "data": {
      "text/plain": [
       "'        ABdul BASit      '"
      ]
     },
     "metadata": {},
     "output_type": "display_data"
    },
    {
     "data": {
      "text/plain": [
       "'ABdul BASit'"
      ]
     },
     "metadata": {},
     "output_type": "display_data"
    }
   ],
   "source": [
    "name : str = \"        ABdul BASit      \"\n",
    "display(name)\n",
    "display(name.strip())"
   ]
  },
  {
   "cell_type": "code",
   "execution_count": 13,
   "metadata": {},
   "outputs": [
    {
     "data": {
      "text/plain": [
       "'        ABdul       BASit      '"
      ]
     },
     "metadata": {},
     "output_type": "display_data"
    },
    {
     "data": {
      "text/plain": [
       "'ABdulBASit'"
      ]
     },
     "metadata": {},
     "output_type": "display_data"
    }
   ],
   "source": [
    "import re\n",
    "\n",
    "name : str = \"        ABdul       BASit      \"\n",
    "display(name)\n",
    "name1 : str = re.sub(' {2,100}','', name).strip()\n",
    "display(name1)"
   ]
  },
  {
   "cell_type": "markdown",
   "metadata": {},
   "source": [
    "# Title case"
   ]
  },
  {
   "cell_type": "code",
   "execution_count": 14,
   "metadata": {},
   "outputs": [
    {
     "name": "stdout",
     "output_type": "stream",
     "text": [
      "aBdul bASit\n",
      "Abdul Basit\n"
     ]
    }
   ],
   "source": [
    "name : str = \"aBdul bASit\"\n",
    "print(name)\n",
    "print(name.title())"
   ]
  },
  {
   "cell_type": "markdown",
   "metadata": {},
   "source": [
    "# Adding Whitespace to Strings with Tabs or Newlines\n",
    "\n",
    "* \\n\n",
    "* \\t\n",
    "* \\b"
   ]
  },
  {
   "cell_type": "code",
   "execution_count": 15,
   "metadata": {},
   "outputs": [
    {
     "name": "stdout",
     "output_type": "stream",
     "text": [
      "Name:\t        Abdul Basit\n"
     ]
    }
   ],
   "source": [
    "print(\"Name:\\t        Abdul Basit\")"
   ]
  },
  {
   "cell_type": "code",
   "execution_count": 17,
   "metadata": {},
   "outputs": [
    {
     "name": "stdout",
     "output_type": "stream",
     "text": [
      "Name:\t        Abdul Basit\n",
      "Name:\n",
      "Abdul Basit\n"
     ]
    }
   ],
   "source": [
    "print(\"Name:\\t        Abdul Basit\")\n",
    "print(\"Name:\\nAbdul Basit\")"
   ]
  },
  {
   "cell_type": "code",
   "execution_count": 19,
   "metadata": {},
   "outputs": [
    {
     "name": "stdout",
     "output_type": "stream",
     "text": [
      "Name:\t        Abdul Basit\n",
      "Name:\n",
      "Abdul Basit\n",
      "NameAbdul Basit\n"
     ]
    }
   ],
   "source": [
    "print(\"Name:\\t        Abdul Basit\")\n",
    "print(\"Name:\\nAbdul Basit\")\n",
    "print(\"Name:\\bAbdul Basit\")"
   ]
  },
  {
   "cell_type": "markdown",
   "metadata": {},
   "source": [
    "# Removing Prefixes"
   ]
  },
  {
   "cell_type": "code",
   "execution_count": 2,
   "metadata": {},
   "outputs": [
    {
     "data": {
      "text/plain": [
       "'sirbasit.com'"
      ]
     },
     "execution_count": 2,
     "metadata": {},
     "output_type": "execute_result"
    }
   ],
   "source": [
    "remov_url : str = \"https://sirbasit.com\"\n",
    "remov_url.removeprefix('https://')\n"
   ]
  },
  {
   "cell_type": "markdown",
   "metadata": {},
   "source": [
    "# Naming  convention"
   ]
  },
  {
   "cell_type": "code",
   "execution_count": 20,
   "metadata": {},
   "outputs": [
    {
     "ename": "SyntaxError",
     "evalue": "invalid decimal literal (4225526513.py, line 1)",
     "output_type": "error",
     "traceback": [
      "\u001b[1;36m  Cell \u001b[1;32mIn[20], line 1\u001b[1;36m\u001b[0m\n\u001b[1;33m    1name : str = \" Abdul Basit\"\u001b[0m\n\u001b[1;37m    ^\u001b[0m\n\u001b[1;31mSyntaxError\u001b[0m\u001b[1;31m:\u001b[0m invalid decimal literal\n"
     ]
    }
   ],
   "source": [
    "1name : str = \" Abdul Basit\" \n",
    "print(1name)"
   ]
  },
  {
   "cell_type": "code",
   "execution_count": 21,
   "metadata": {},
   "outputs": [
    {
     "name": "stdout",
     "output_type": "stream",
     "text": [
      "Abdul Basit\n"
     ]
    }
   ],
   "source": [
    "name1 : str = \"Abdul Basit\"\n",
    "print(name1)\n"
   ]
  },
  {
   "cell_type": "code",
   "execution_count": 22,
   "metadata": {},
   "outputs": [
    {
     "ename": "SyntaxError",
     "evalue": "invalid syntax (1591805853.py, line 1)",
     "output_type": "error",
     "traceback": [
      "\u001b[1;36m  Cell \u001b[1;32mIn[22], line 1\u001b[1;36m\u001b[0m\n\u001b[1;33m    piaic student name : str = 'Abdul Basit !'\u001b[0m\n\u001b[1;37m          ^\u001b[0m\n\u001b[1;31mSyntaxError\u001b[0m\u001b[1;31m:\u001b[0m invalid syntax\n"
     ]
    }
   ],
   "source": [
    "piaic student name : str = 'Abdul Basit !'\n",
    "print(piaic student name)"
   ]
  },
  {
   "cell_type": "code",
   "execution_count": 23,
   "metadata": {},
   "outputs": [
    {
     "name": "stdout",
     "output_type": "stream",
     "text": [
      "Abdul Basit !\n"
     ]
    }
   ],
   "source": [
    "piaic_student_name : str = 'Abdul Basit !'\n",
    "print(piaic_student_name)"
   ]
  },
  {
   "cell_type": "markdown",
   "metadata": {},
   "source": [
    "# Exercise"
   ]
  },
  {
   "cell_type": "code",
   "execution_count": 3,
   "metadata": {},
   "outputs": [
    {
     "name": "stdout",
     "output_type": "stream",
     "text": [
      "Hello Eric, would you like to learn some Python today?\n"
     ]
    }
   ],
   "source": [
    "# Exercise 2-3: Personal Message\n",
    "\n",
    "# Define the person's name\n",
    "name = \"Eric\"\n",
    "\n",
    "# Print a message to that person\n",
    "print(f\"Hello {name}, would you like to learn some Python today?\")\n"
   ]
  },
  {
   "cell_type": "code",
   "execution_count": 4,
   "metadata": {},
   "outputs": [
    {
     "name": "stdout",
     "output_type": "stream",
     "text": [
      "abdul basit\n",
      "ABDUL BASIT\n",
      "Abdul Basit\n"
     ]
    }
   ],
   "source": [
    "# Exercise 2-4: Name Cases\n",
    "\n",
    "# Define the person's name\n",
    "name = \"Abdul Basit\"\n",
    "\n",
    "# Print the name in lowercase\n",
    "print(name.lower())\n",
    "\n",
    "# Print the name in uppercase\n",
    "print(name.upper())\n",
    "\n",
    "# Print the name in title case\n",
    "print(name.title())\n"
   ]
  },
  {
   "cell_type": "code",
   "execution_count": 5,
   "metadata": {},
   "outputs": [
    {
     "name": "stdout",
     "output_type": "stream",
     "text": [
      "Albert Einstein once said, \"A person who never made a mistake never tried anything new.\"\n"
     ]
    }
   ],
   "source": [
    "# Exercise 2-5: Famous Quote\n",
    "\n",
    "# Define the quote and its author\n",
    "quote = \"A person who never made a mistake never tried anything new.\"\n",
    "author = \"Albert Einstein\"\n",
    "\n",
    "# Print the quote and its author\n",
    "print(f'{author} once said, \"{quote}\"')\n"
   ]
  },
  {
   "cell_type": "code",
   "execution_count": 6,
   "metadata": {},
   "outputs": [
    {
     "name": "stdout",
     "output_type": "stream",
     "text": [
      "Albert Einstein once said, \"A person who never made a mistake never tried anything new.\"\n"
     ]
    }
   ],
   "source": [
    "# Exercise 2-6: Famous Quote 2\n",
    "\n",
    "# Define the famous person's name and the message\n",
    "famous_person = \"Albert Einstein\"\n",
    "message = \"A person who never made a mistake never tried anything new.\"\n",
    "\n",
    "# Print the message\n",
    "print(f'{famous_person} once said, \"{message}\"')\n"
   ]
  },
  {
   "cell_type": "code",
   "execution_count": 7,
   "metadata": {},
   "outputs": [
    {
     "name": "stdout",
     "output_type": "stream",
     "text": [
      "With whitespace: \t\n",
      "  Eric Idle  \t\n",
      "\n",
      "Using lstrip(): Eric Idle  \t\n",
      "\n",
      "Using rstrip(): \t\n",
      "  Eric Idle\n",
      "Using strip(): Eric Idle\n"
     ]
    }
   ],
   "source": [
    "# Exercise 2-7: Stripping Names\n",
    "\n",
    "# Define the person's name with whitespace characters\n",
    "name = \"\\t\\n  Eric Idle  \\t\\n\"\n",
    "\n",
    "# Print the name with whitespace around it\n",
    "print(\"With whitespace:\", name)\n",
    "\n",
    "# Print the name using lstrip(), rstrip(), and strip() to remove whitespace\n",
    "print(\"Using lstrip():\", name.lstrip())\n",
    "print(\"Using rstrip():\", name.rstrip())\n",
    "print(\"Using strip():\", name.strip())\n"
   ]
  },
  {
   "cell_type": "code",
   "execution_count": 8,
   "metadata": {},
   "outputs": [
    {
     "name": "stdout",
     "output_type": "stream",
     "text": [
      "python_notes\n"
     ]
    }
   ],
   "source": [
    "# Exercise 2-8: File Extensions\n",
    "\n",
    "# Assign the filename\n",
    "filename = 'python_notes.txt'\n",
    "\n",
    "# Display the filename without the file extension\n",
    "print(filename.removesuffix('.txt'))\n"
   ]
  }
 ],
 "metadata": {
  "kernelspec": {
   "display_name": "python12",
   "language": "python",
   "name": "python3"
  },
  "language_info": {
   "codemirror_mode": {
    "name": "ipython",
    "version": 3
   },
   "file_extension": ".py",
   "mimetype": "text/x-python",
   "name": "python",
   "nbconvert_exporter": "python",
   "pygments_lexer": "ipython3",
   "version": "3.12.0"
  }
 },
 "nbformat": 4,
 "nbformat_minor": 2
}
